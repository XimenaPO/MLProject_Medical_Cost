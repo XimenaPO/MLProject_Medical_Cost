{
 "cells": [
  {
   "cell_type": "markdown",
   "metadata": {},
   "source": [
    "![IMAGEN SEGURO MÉDICO](../utils/health-insurance-paperwork-money.jpg)"
   ]
  },
  {
   "cell_type": "markdown",
   "metadata": {},
   "source": [
    "# PROYECTO ML - COSTO MÉDICO PERSONAL FACTURADO POR EL SEGURO MÉDICO"
   ]
  },
  {
   "cell_type": "markdown",
   "metadata": {},
   "source": [
    "## 1. INTRODUCCIÓN Y OBJETIVO"
   ]
  },
  {
   "cell_type": "markdown",
   "metadata": {},
   "source": [
    "El presente proyecto tiene como objetivo predecir los costos médicos según determinadas características de cada persona. \n",
    "\n",
    "Dichas predicciones serán realizadas aplicando Machine Learning, y específicamente modelos de Regresión. Anteriormente haré un EDA para analizar previamente el dataset."
   ]
  },
  {
   "cell_type": "markdown",
   "metadata": {},
   "source": [
    "Lo que se busca predecir es el costo médico, es decir, los cargos económicos que tendría una persona según algunos factores como la edad, el sexo, el índice de masa corporal (imc), cantidad de hijos, si es fumadora o no, etc."
   ]
  },
  {
   "cell_type": "markdown",
   "metadata": {},
   "source": [
    "En cuanto al EDA, vamos a analizar mediante funciones y gráficos la cardinalidad de las variables, observar si hay correlaciones entre las mismas, o la relación es nula, cómo se distribuyen los datos en cada característica, si hay asimetría o distribución normal, entre otras cosas. "
   ]
  },
  {
   "cell_type": "markdown",
   "metadata": {},
   "source": [
    "Posteriormente, en base al análisis realizado, haremos la limpieza correspondiente según haya valores nulos, traducciones, duplicados, etc."
   ]
  },
  {
   "cell_type": "markdown",
   "metadata": {},
   "source": [
    "Y por último, en la etapa de Machine Learning, en primer lugar, realizaremos las transformaciones necesarias a las variables (Feature Engineering) como ser: convertir las variables categóricas en numéricas, utilizando distintos métodos como mapeos, LabelEncoder; aplicaremos el logaritmo a las características que correspondan para obtener una distribución normal o escalado mediante Standard Scaler con el fin de tener todas las variables en una misma escala, para un mejor rendimiento del modelo.\n",
    "\n",
    "Posteriormente, analizaremos cuál modelo de Regresión generaliza mejor, utilizando 'Cross Validation' y también 'GridSearch', para encontrar los mejores hiperparámetros respecto a dichos modelos. \n",
    "\n",
    "Por último, haremos las predicciones correspondientes en base a los mejores modelos y utilizaremos las métricas que se utilizan en estos problemas de regresión como por ejemplo, el Coeficiente de Determinación (R2), la Raíz del Error Cuadrático Medio (RMSE), para saber el rendimiento del modelo y cómo éste generaliza los nuevos datos."
   ]
  },
  {
   "cell_type": "markdown",
   "metadata": {},
   "source": [
    "### 1.1. DESCRIPCIÓN DATASET Y COLUMNAS"
   ]
  },
  {
   "cell_type": "markdown",
   "metadata": {},
   "source": [
    "El DataFrame contiene 1338 filas y 7 columnas, sin valores nulos."
   ]
  },
  {
   "cell_type": "markdown",
   "metadata": {},
   "source": [
    "**COLUMNAS**\n",
    "- **`edad`**: \n",
    "  * Edad del beneficiario principal.\n",
    "  * Columna numérica. Tipo: Int64. \n",
    "  * La edad va desde los 18 años hasta los 64.\n",
    "\n",
    "- **`sexo`**: \n",
    "  * Género de la persona, femenino o masculino.\n",
    "  * Columna categórica. Tipo: Object.\n",
    "  * Se divide en femenino y masculino.\n",
    "\n",
    "- **`imc`**: \n",
    "  * Índice de masa corporal (kg/m^2) utilizando la relación entre altura y peso, idealmente 18,5 a 24,9. \n",
    "  * Columna numérica. Tipo: Float64.\n",
    "\n",
    "\n",
    "- **`hijos`**: \n",
    "  * Número de hijos del beneficiario.\n",
    "  * Columna numérica. Tipo: Int64.\n",
    "  \n",
    "- **`fumador`**: \n",
    "  * Si la persona es fumadora o no. \n",
    "  * Columna categórica. Tipo: Object.\n",
    "\n",
    "- **`región`**: \n",
    "  * Zona residencial del beneficiario en EE. UU., noreste, sureste, suroeste, noroeste.\n",
    "  * Columna categórica. Tipo: Object.\n",
    "\n",
    "- **`cargos`**: \n",
    "  * Costos médicos individuales facturados.\n",
    "  * Columna numérica. Tipo: Float64."
   ]
  },
  {
   "cell_type": "markdown",
   "metadata": {},
   "source": [
    "## 2. IMPORTACIÓN LIBRERÍAS"
   ]
  },
  {
   "cell_type": "code",
   "execution_count": 3,
   "metadata": {},
   "outputs": [],
   "source": [
    "# Tratamiento de datos\n",
    "import pandas as pd\n",
    "import numpy as np\n",
    "\n",
    "import warnings\n",
    "warnings.filterwarnings('ignore')\n",
    "\n",
    "import pickle\n",
    "\n",
    "# Visualización\n",
    "import matplotlib.pyplot as plt\n",
    "import seaborn as sns\n",
    "\n",
    "# Correlaciones - Prueba de hipótesis\n",
    "from scipy.stats import pearsonr\n",
    "\n",
    "# Preprocesamiento de datos\n",
    "from sklearn.preprocessing import OneHotEncoder, StandardScaler, LabelEncoder\n",
    "from imblearn.over_sampling import SMOTE, RandomOverSampler\n",
    "from sklearn.utils import resample\n",
    "\n",
    "# Modelos\n",
    "from sklearn.model_selection import train_test_split, cross_val_score, cross_val_predict, cross_validate\n",
    "from sklearn.linear_model import LinearRegression, Ridge, Lasso, ElasticNet\n",
    "from sklearn.svm import SVR\n",
    "from sklearn.tree import DecisionTreeRegressor\n",
    "from sklearn.ensemble import RandomForestRegressor\n",
    "from sklearn.neighbors import KNeighborsRegressor\n",
    "from sklearn.ensemble import GradientBoostingRegressor\n",
    "from xgboost import XGBRegressor\n",
    "from lightgbm import LGBMRegressor\n",
    "from catboost import CatBoostRegressor\n",
    "from sklearn.metrics import mean_squared_error, r2_score, mean_absolute_error, mean_absolute_percentage_error, make_scorer\n",
    "\n",
    "from sklearn.model_selection import GridSearchCV"
   ]
  },
  {
   "cell_type": "markdown",
   "metadata": {},
   "source": [
    "## 3. DATA"
   ]
  },
  {
   "cell_type": "code",
   "execution_count": 2,
   "metadata": {},
   "outputs": [],
   "source": [
    "df = pd.read_csv('../data/raw/insurance.csv')"
   ]
  },
  {
   "cell_type": "markdown",
   "metadata": {},
   "source": [
    "## 4. PRIMERA EXPLORACIÓN DE DATOS "
   ]
  },
  {
   "cell_type": "code",
   "execution_count": 3,
   "metadata": {},
   "outputs": [
    {
     "data": {
      "text/html": [
       "<div>\n",
       "<style scoped>\n",
       "    .dataframe tbody tr th:only-of-type {\n",
       "        vertical-align: middle;\n",
       "    }\n",
       "\n",
       "    .dataframe tbody tr th {\n",
       "        vertical-align: top;\n",
       "    }\n",
       "\n",
       "    .dataframe thead th {\n",
       "        text-align: right;\n",
       "    }\n",
       "</style>\n",
       "<table border=\"1\" class=\"dataframe\">\n",
       "  <thead>\n",
       "    <tr style=\"text-align: right;\">\n",
       "      <th></th>\n",
       "      <th>age</th>\n",
       "      <th>sex</th>\n",
       "      <th>bmi</th>\n",
       "      <th>children</th>\n",
       "      <th>smoker</th>\n",
       "      <th>region</th>\n",
       "      <th>charges</th>\n",
       "    </tr>\n",
       "  </thead>\n",
       "  <tbody>\n",
       "    <tr>\n",
       "      <th>0</th>\n",
       "      <td>19</td>\n",
       "      <td>female</td>\n",
       "      <td>27.900</td>\n",
       "      <td>0</td>\n",
       "      <td>yes</td>\n",
       "      <td>southwest</td>\n",
       "      <td>16884.92400</td>\n",
       "    </tr>\n",
       "    <tr>\n",
       "      <th>1</th>\n",
       "      <td>18</td>\n",
       "      <td>male</td>\n",
       "      <td>33.770</td>\n",
       "      <td>1</td>\n",
       "      <td>no</td>\n",
       "      <td>southeast</td>\n",
       "      <td>1725.55230</td>\n",
       "    </tr>\n",
       "    <tr>\n",
       "      <th>2</th>\n",
       "      <td>28</td>\n",
       "      <td>male</td>\n",
       "      <td>33.000</td>\n",
       "      <td>3</td>\n",
       "      <td>no</td>\n",
       "      <td>southeast</td>\n",
       "      <td>4449.46200</td>\n",
       "    </tr>\n",
       "    <tr>\n",
       "      <th>3</th>\n",
       "      <td>33</td>\n",
       "      <td>male</td>\n",
       "      <td>22.705</td>\n",
       "      <td>0</td>\n",
       "      <td>no</td>\n",
       "      <td>northwest</td>\n",
       "      <td>21984.47061</td>\n",
       "    </tr>\n",
       "    <tr>\n",
       "      <th>4</th>\n",
       "      <td>32</td>\n",
       "      <td>male</td>\n",
       "      <td>28.880</td>\n",
       "      <td>0</td>\n",
       "      <td>no</td>\n",
       "      <td>northwest</td>\n",
       "      <td>3866.85520</td>\n",
       "    </tr>\n",
       "  </tbody>\n",
       "</table>\n",
       "</div>"
      ],
      "text/plain": [
       "   age     sex     bmi  children smoker     region      charges\n",
       "0   19  female  27.900         0    yes  southwest  16884.92400\n",
       "1   18    male  33.770         1     no  southeast   1725.55230\n",
       "2   28    male  33.000         3     no  southeast   4449.46200\n",
       "3   33    male  22.705         0     no  northwest  21984.47061\n",
       "4   32    male  28.880         0     no  northwest   3866.85520"
      ]
     },
     "execution_count": 3,
     "metadata": {},
     "output_type": "execute_result"
    }
   ],
   "source": [
    "df.head()"
   ]
  },
  {
   "cell_type": "code",
   "execution_count": 4,
   "metadata": {},
   "outputs": [
    {
     "data": {
      "text/html": [
       "<div>\n",
       "<style scoped>\n",
       "    .dataframe tbody tr th:only-of-type {\n",
       "        vertical-align: middle;\n",
       "    }\n",
       "\n",
       "    .dataframe tbody tr th {\n",
       "        vertical-align: top;\n",
       "    }\n",
       "\n",
       "    .dataframe thead th {\n",
       "        text-align: right;\n",
       "    }\n",
       "</style>\n",
       "<table border=\"1\" class=\"dataframe\">\n",
       "  <thead>\n",
       "    <tr style=\"text-align: right;\">\n",
       "      <th></th>\n",
       "      <th>age</th>\n",
       "      <th>sex</th>\n",
       "      <th>bmi</th>\n",
       "      <th>children</th>\n",
       "      <th>smoker</th>\n",
       "      <th>region</th>\n",
       "      <th>charges</th>\n",
       "    </tr>\n",
       "  </thead>\n",
       "  <tbody>\n",
       "    <tr>\n",
       "      <th>1333</th>\n",
       "      <td>50</td>\n",
       "      <td>male</td>\n",
       "      <td>30.97</td>\n",
       "      <td>3</td>\n",
       "      <td>no</td>\n",
       "      <td>northwest</td>\n",
       "      <td>10600.5483</td>\n",
       "    </tr>\n",
       "    <tr>\n",
       "      <th>1334</th>\n",
       "      <td>18</td>\n",
       "      <td>female</td>\n",
       "      <td>31.92</td>\n",
       "      <td>0</td>\n",
       "      <td>no</td>\n",
       "      <td>northeast</td>\n",
       "      <td>2205.9808</td>\n",
       "    </tr>\n",
       "    <tr>\n",
       "      <th>1335</th>\n",
       "      <td>18</td>\n",
       "      <td>female</td>\n",
       "      <td>36.85</td>\n",
       "      <td>0</td>\n",
       "      <td>no</td>\n",
       "      <td>southeast</td>\n",
       "      <td>1629.8335</td>\n",
       "    </tr>\n",
       "    <tr>\n",
       "      <th>1336</th>\n",
       "      <td>21</td>\n",
       "      <td>female</td>\n",
       "      <td>25.80</td>\n",
       "      <td>0</td>\n",
       "      <td>no</td>\n",
       "      <td>southwest</td>\n",
       "      <td>2007.9450</td>\n",
       "    </tr>\n",
       "    <tr>\n",
       "      <th>1337</th>\n",
       "      <td>61</td>\n",
       "      <td>female</td>\n",
       "      <td>29.07</td>\n",
       "      <td>0</td>\n",
       "      <td>yes</td>\n",
       "      <td>northwest</td>\n",
       "      <td>29141.3603</td>\n",
       "    </tr>\n",
       "  </tbody>\n",
       "</table>\n",
       "</div>"
      ],
      "text/plain": [
       "      age     sex    bmi  children smoker     region     charges\n",
       "1333   50    male  30.97         3     no  northwest  10600.5483\n",
       "1334   18  female  31.92         0     no  northeast   2205.9808\n",
       "1335   18  female  36.85         0     no  southeast   1629.8335\n",
       "1336   21  female  25.80         0     no  southwest   2007.9450\n",
       "1337   61  female  29.07         0    yes  northwest  29141.3603"
      ]
     },
     "execution_count": 4,
     "metadata": {},
     "output_type": "execute_result"
    }
   ],
   "source": [
    "df.tail()"
   ]
  },
  {
   "cell_type": "code",
   "execution_count": 5,
   "metadata": {},
   "outputs": [
    {
     "name": "stdout",
     "output_type": "stream",
     "text": [
      "<class 'pandas.core.frame.DataFrame'>\n",
      "RangeIndex: 1338 entries, 0 to 1337\n",
      "Data columns (total 7 columns):\n",
      " #   Column    Non-Null Count  Dtype  \n",
      "---  ------    --------------  -----  \n",
      " 0   age       1338 non-null   int64  \n",
      " 1   sex       1338 non-null   object \n",
      " 2   bmi       1338 non-null   float64\n",
      " 3   children  1338 non-null   int64  \n",
      " 4   smoker    1338 non-null   object \n",
      " 5   region    1338 non-null   object \n",
      " 6   charges   1338 non-null   float64\n",
      "dtypes: float64(2), int64(2), object(3)\n",
      "memory usage: 73.3+ KB\n"
     ]
    }
   ],
   "source": [
    "df.info()"
   ]
  },
  {
   "cell_type": "code",
   "execution_count": 7,
   "metadata": {},
   "outputs": [
    {
     "data": {
      "text/plain": [
       "age         0.0\n",
       "sex         0.0\n",
       "bmi         0.0\n",
       "children    0.0\n",
       "smoker      0.0\n",
       "region      0.0\n",
       "charges     0.0\n",
       "dtype: float64"
      ]
     },
     "execution_count": 7,
     "metadata": {},
     "output_type": "execute_result"
    }
   ],
   "source": [
    "df.isna().sum()/len(df)*100"
   ]
  },
  {
   "cell_type": "code",
   "execution_count": 8,
   "metadata": {},
   "outputs": [
    {
     "data": {
      "text/html": [
       "<div>\n",
       "<style scoped>\n",
       "    .dataframe tbody tr th:only-of-type {\n",
       "        vertical-align: middle;\n",
       "    }\n",
       "\n",
       "    .dataframe tbody tr th {\n",
       "        vertical-align: top;\n",
       "    }\n",
       "\n",
       "    .dataframe thead th {\n",
       "        text-align: right;\n",
       "    }\n",
       "</style>\n",
       "<table border=\"1\" class=\"dataframe\">\n",
       "  <thead>\n",
       "    <tr style=\"text-align: right;\">\n",
       "      <th></th>\n",
       "      <th>age</th>\n",
       "      <th>bmi</th>\n",
       "      <th>children</th>\n",
       "      <th>charges</th>\n",
       "    </tr>\n",
       "  </thead>\n",
       "  <tbody>\n",
       "    <tr>\n",
       "      <th>count</th>\n",
       "      <td>1338.000000</td>\n",
       "      <td>1338.000000</td>\n",
       "      <td>1338.000000</td>\n",
       "      <td>1338.000000</td>\n",
       "    </tr>\n",
       "    <tr>\n",
       "      <th>mean</th>\n",
       "      <td>39.207025</td>\n",
       "      <td>30.663397</td>\n",
       "      <td>1.094918</td>\n",
       "      <td>13270.422265</td>\n",
       "    </tr>\n",
       "    <tr>\n",
       "      <th>std</th>\n",
       "      <td>14.049960</td>\n",
       "      <td>6.098187</td>\n",
       "      <td>1.205493</td>\n",
       "      <td>12110.011237</td>\n",
       "    </tr>\n",
       "    <tr>\n",
       "      <th>min</th>\n",
       "      <td>18.000000</td>\n",
       "      <td>15.960000</td>\n",
       "      <td>0.000000</td>\n",
       "      <td>1121.873900</td>\n",
       "    </tr>\n",
       "    <tr>\n",
       "      <th>25%</th>\n",
       "      <td>27.000000</td>\n",
       "      <td>26.296250</td>\n",
       "      <td>0.000000</td>\n",
       "      <td>4740.287150</td>\n",
       "    </tr>\n",
       "    <tr>\n",
       "      <th>50%</th>\n",
       "      <td>39.000000</td>\n",
       "      <td>30.400000</td>\n",
       "      <td>1.000000</td>\n",
       "      <td>9382.033000</td>\n",
       "    </tr>\n",
       "    <tr>\n",
       "      <th>75%</th>\n",
       "      <td>51.000000</td>\n",
       "      <td>34.693750</td>\n",
       "      <td>2.000000</td>\n",
       "      <td>16639.912515</td>\n",
       "    </tr>\n",
       "    <tr>\n",
       "      <th>max</th>\n",
       "      <td>64.000000</td>\n",
       "      <td>53.130000</td>\n",
       "      <td>5.000000</td>\n",
       "      <td>63770.428010</td>\n",
       "    </tr>\n",
       "  </tbody>\n",
       "</table>\n",
       "</div>"
      ],
      "text/plain": [
       "               age          bmi     children       charges\n",
       "count  1338.000000  1338.000000  1338.000000   1338.000000\n",
       "mean     39.207025    30.663397     1.094918  13270.422265\n",
       "std      14.049960     6.098187     1.205493  12110.011237\n",
       "min      18.000000    15.960000     0.000000   1121.873900\n",
       "25%      27.000000    26.296250     0.000000   4740.287150\n",
       "50%      39.000000    30.400000     1.000000   9382.033000\n",
       "75%      51.000000    34.693750     2.000000  16639.912515\n",
       "max      64.000000    53.130000     5.000000  63770.428010"
      ]
     },
     "execution_count": 8,
     "metadata": {},
     "output_type": "execute_result"
    }
   ],
   "source": [
    "df.describe()"
   ]
  },
  {
   "cell_type": "code",
   "execution_count": 9,
   "metadata": {},
   "outputs": [
    {
     "data": {
      "text/html": [
       "<div>\n",
       "<style scoped>\n",
       "    .dataframe tbody tr th:only-of-type {\n",
       "        vertical-align: middle;\n",
       "    }\n",
       "\n",
       "    .dataframe tbody tr th {\n",
       "        vertical-align: top;\n",
       "    }\n",
       "\n",
       "    .dataframe thead th {\n",
       "        text-align: right;\n",
       "    }\n",
       "</style>\n",
       "<table border=\"1\" class=\"dataframe\">\n",
       "  <thead>\n",
       "    <tr style=\"text-align: right;\">\n",
       "      <th></th>\n",
       "      <th>sex</th>\n",
       "      <th>smoker</th>\n",
       "      <th>region</th>\n",
       "    </tr>\n",
       "  </thead>\n",
       "  <tbody>\n",
       "    <tr>\n",
       "      <th>count</th>\n",
       "      <td>1338</td>\n",
       "      <td>1338</td>\n",
       "      <td>1338</td>\n",
       "    </tr>\n",
       "    <tr>\n",
       "      <th>unique</th>\n",
       "      <td>2</td>\n",
       "      <td>2</td>\n",
       "      <td>4</td>\n",
       "    </tr>\n",
       "    <tr>\n",
       "      <th>top</th>\n",
       "      <td>male</td>\n",
       "      <td>no</td>\n",
       "      <td>southeast</td>\n",
       "    </tr>\n",
       "    <tr>\n",
       "      <th>freq</th>\n",
       "      <td>676</td>\n",
       "      <td>1064</td>\n",
       "      <td>364</td>\n",
       "    </tr>\n",
       "  </tbody>\n",
       "</table>\n",
       "</div>"
      ],
      "text/plain": [
       "         sex smoker     region\n",
       "count   1338   1338       1338\n",
       "unique     2      2          4\n",
       "top     male     no  southeast\n",
       "freq     676   1064        364"
      ]
     },
     "execution_count": 9,
     "metadata": {},
     "output_type": "execute_result"
    }
   ],
   "source": [
    "df.describe(include=object)"
   ]
  },
  {
   "cell_type": "code",
   "execution_count": 10,
   "metadata": {},
   "outputs": [
    {
     "data": {
      "text/plain": [
       "age           int64\n",
       "sex          object\n",
       "bmi         float64\n",
       "children      int64\n",
       "smoker       object\n",
       "region       object\n",
       "charges     float64\n",
       "dtype: object"
      ]
     },
     "execution_count": 10,
     "metadata": {},
     "output_type": "execute_result"
    }
   ],
   "source": [
    "df.dtypes"
   ]
  },
  {
   "cell_type": "code",
   "execution_count": 11,
   "metadata": {},
   "outputs": [
    {
     "data": {
      "text/html": [
       "<div>\n",
       "<style scoped>\n",
       "    .dataframe tbody tr th:only-of-type {\n",
       "        vertical-align: middle;\n",
       "    }\n",
       "\n",
       "    .dataframe tbody tr th {\n",
       "        vertical-align: top;\n",
       "    }\n",
       "\n",
       "    .dataframe thead th {\n",
       "        text-align: right;\n",
       "    }\n",
       "</style>\n",
       "<table border=\"1\" class=\"dataframe\">\n",
       "  <thead>\n",
       "    <tr style=\"text-align: right;\">\n",
       "      <th></th>\n",
       "      <th>age</th>\n",
       "      <th>sex</th>\n",
       "      <th>bmi</th>\n",
       "      <th>children</th>\n",
       "      <th>smoker</th>\n",
       "      <th>region</th>\n",
       "      <th>charges</th>\n",
       "    </tr>\n",
       "  </thead>\n",
       "  <tbody>\n",
       "    <tr>\n",
       "      <th>581</th>\n",
       "      <td>19</td>\n",
       "      <td>male</td>\n",
       "      <td>30.59</td>\n",
       "      <td>0</td>\n",
       "      <td>no</td>\n",
       "      <td>northwest</td>\n",
       "      <td>1639.5631</td>\n",
       "    </tr>\n",
       "  </tbody>\n",
       "</table>\n",
       "</div>"
      ],
      "text/plain": [
       "     age   sex    bmi  children smoker     region    charges\n",
       "581   19  male  30.59         0     no  northwest  1639.5631"
      ]
     },
     "execution_count": 11,
     "metadata": {},
     "output_type": "execute_result"
    }
   ],
   "source": [
    "df[df.duplicated()]"
   ]
  },
  {
   "cell_type": "markdown",
   "metadata": {},
   "source": [
    "## 5. LIMPIEZA"
   ]
  },
  {
   "cell_type": "markdown",
   "metadata": {},
   "source": [
    "### 5.1. TRADUCCIONES "
   ]
  },
  {
   "cell_type": "markdown",
   "metadata": {},
   "source": [
    "Los nombres de las columnas se encuentran en inglés, por lo que realizaré la traducción al español de las etiquetas para una uniformidad en el lenguaje del notebook. "
   ]
  },
  {
   "cell_type": "code",
   "execution_count": 6,
   "metadata": {},
   "outputs": [],
   "source": [
    "nombres_columnas = ['edad', 'sexo', 'imc', 'hijos', 'fumador', 'region', 'costo']\n",
    "df.columns = nombres_columnas"
   ]
  },
  {
   "cell_type": "markdown",
   "metadata": {},
   "source": [
    "### 5.2. ELIMINACIÓN DUPLICADOS"
   ]
  },
  {
   "cell_type": "code",
   "execution_count": 7,
   "metadata": {},
   "outputs": [
    {
     "data": {
      "text/html": [
       "<div>\n",
       "<style scoped>\n",
       "    .dataframe tbody tr th:only-of-type {\n",
       "        vertical-align: middle;\n",
       "    }\n",
       "\n",
       "    .dataframe tbody tr th {\n",
       "        vertical-align: top;\n",
       "    }\n",
       "\n",
       "    .dataframe thead th {\n",
       "        text-align: right;\n",
       "    }\n",
       "</style>\n",
       "<table border=\"1\" class=\"dataframe\">\n",
       "  <thead>\n",
       "    <tr style=\"text-align: right;\">\n",
       "      <th></th>\n",
       "      <th>edad</th>\n",
       "      <th>sexo</th>\n",
       "      <th>imc</th>\n",
       "      <th>hijos</th>\n",
       "      <th>fumador</th>\n",
       "      <th>region</th>\n",
       "      <th>costo</th>\n",
       "    </tr>\n",
       "  </thead>\n",
       "  <tbody>\n",
       "    <tr>\n",
       "      <th>581</th>\n",
       "      <td>19</td>\n",
       "      <td>male</td>\n",
       "      <td>30.59</td>\n",
       "      <td>0</td>\n",
       "      <td>no</td>\n",
       "      <td>northwest</td>\n",
       "      <td>1639.5631</td>\n",
       "    </tr>\n",
       "  </tbody>\n",
       "</table>\n",
       "</div>"
      ],
      "text/plain": [
       "     edad  sexo    imc  hijos fumador     region      costo\n",
       "581    19  male  30.59      0      no  northwest  1639.5631"
      ]
     },
     "execution_count": 7,
     "metadata": {},
     "output_type": "execute_result"
    }
   ],
   "source": [
    "df[df.duplicated()]"
   ]
  },
  {
   "cell_type": "markdown",
   "metadata": {},
   "source": [
    "Al observar que existe un duplicado en la fila 581, lo eliminamos: "
   ]
  },
  {
   "cell_type": "code",
   "execution_count": 8,
   "metadata": {},
   "outputs": [],
   "source": [
    "df = df.drop_duplicates()"
   ]
  },
  {
   "cell_type": "markdown",
   "metadata": {},
   "source": [
    "### 5.3. GUARDAR DATAFRAME LUEGO DE LA LIMPIEZA"
   ]
  },
  {
   "cell_type": "code",
   "execution_count": 9,
   "metadata": {},
   "outputs": [],
   "source": [
    "df.to_csv('../data/processed/df_limpio.csv')"
   ]
  },
  {
   "cell_type": "markdown",
   "metadata": {},
   "source": [
    "## 6. EDA - ANÁLISIS EXPLORATORIO DE DATOS"
   ]
  },
  {
   "cell_type": "markdown",
   "metadata": {},
   "source": [
    "Ejecutando una función para ver la cardinalidad del DataFrame podemos ver lo que he descripto en el título *'1.Introducción y Objetivo'*, en cuanto al tipo de dato de cada columna, tipo de varibale, etc."
   ]
  },
  {
   "cell_type": "code",
   "execution_count": 11,
   "metadata": {},
   "outputs": [],
   "source": [
    "def calcular_cardinalidad(df):\n",
    "    cardinalidad = pd.DataFrame(index=df.columns)\n",
    "\n",
    "    cardinalidad['valores_unicos'] = [df[col].nunique() for col in df.columns]\n",
    "    cardinalidad['porcentaje_cardinalidad'] = round(cardinalidad['valores_unicos'] / len(df) * 100, 2)\n",
    "    cardinalidad['tipo_de_dato'] = df.dtypes\n",
    "    cardinalidad['tipo_de_variable'] = ['Categórica' if df[col].dtype == 'object' else 'Numérica' for col in df.columns]\n",
    "\n",
    "    return cardinalidad"
   ]
  },
  {
   "cell_type": "code",
   "execution_count": 12,
   "metadata": {},
   "outputs": [
    {
     "data": {
      "text/html": [
       "<div>\n",
       "<style scoped>\n",
       "    .dataframe tbody tr th:only-of-type {\n",
       "        vertical-align: middle;\n",
       "    }\n",
       "\n",
       "    .dataframe tbody tr th {\n",
       "        vertical-align: top;\n",
       "    }\n",
       "\n",
       "    .dataframe thead th {\n",
       "        text-align: right;\n",
       "    }\n",
       "</style>\n",
       "<table border=\"1\" class=\"dataframe\">\n",
       "  <thead>\n",
       "    <tr style=\"text-align: right;\">\n",
       "      <th></th>\n",
       "      <th>valores_unicos</th>\n",
       "      <th>porcentaje_cardinalidad</th>\n",
       "      <th>tipo_de_dato</th>\n",
       "      <th>tipo_de_variable</th>\n",
       "    </tr>\n",
       "  </thead>\n",
       "  <tbody>\n",
       "    <tr>\n",
       "      <th>edad</th>\n",
       "      <td>47</td>\n",
       "      <td>3.52</td>\n",
       "      <td>int64</td>\n",
       "      <td>Numérica</td>\n",
       "    </tr>\n",
       "    <tr>\n",
       "      <th>sexo</th>\n",
       "      <td>2</td>\n",
       "      <td>0.15</td>\n",
       "      <td>object</td>\n",
       "      <td>Categórica</td>\n",
       "    </tr>\n",
       "    <tr>\n",
       "      <th>imc</th>\n",
       "      <td>548</td>\n",
       "      <td>40.99</td>\n",
       "      <td>float64</td>\n",
       "      <td>Numérica</td>\n",
       "    </tr>\n",
       "    <tr>\n",
       "      <th>hijos</th>\n",
       "      <td>6</td>\n",
       "      <td>0.45</td>\n",
       "      <td>int64</td>\n",
       "      <td>Numérica</td>\n",
       "    </tr>\n",
       "    <tr>\n",
       "      <th>fumador</th>\n",
       "      <td>2</td>\n",
       "      <td>0.15</td>\n",
       "      <td>object</td>\n",
       "      <td>Categórica</td>\n",
       "    </tr>\n",
       "    <tr>\n",
       "      <th>region</th>\n",
       "      <td>4</td>\n",
       "      <td>0.30</td>\n",
       "      <td>object</td>\n",
       "      <td>Categórica</td>\n",
       "    </tr>\n",
       "    <tr>\n",
       "      <th>costo</th>\n",
       "      <td>1337</td>\n",
       "      <td>100.00</td>\n",
       "      <td>float64</td>\n",
       "      <td>Numérica</td>\n",
       "    </tr>\n",
       "  </tbody>\n",
       "</table>\n",
       "</div>"
      ],
      "text/plain": [
       "         valores_unicos  porcentaje_cardinalidad tipo_de_dato tipo_de_variable\n",
       "edad                 47                     3.52        int64         Numérica\n",
       "sexo                  2                     0.15       object       Categórica\n",
       "imc                 548                    40.99      float64         Numérica\n",
       "hijos                 6                     0.45        int64         Numérica\n",
       "fumador               2                     0.15       object       Categórica\n",
       "region                4                     0.30       object       Categórica\n",
       "costo              1337                   100.00      float64         Numérica"
      ]
     },
     "execution_count": 12,
     "metadata": {},
     "output_type": "execute_result"
    }
   ],
   "source": [
    "calcular_cardinalidad(df)"
   ]
  },
  {
   "cell_type": "markdown",
   "metadata": {},
   "source": [
    "### 6.1. ANÁLISIS UNIVARIANTE "
   ]
  },
  {
   "cell_type": "markdown",
   "metadata": {},
   "source": [
    "#### 6.1.1. Distribución columnas numéricas"
   ]
  },
  {
   "cell_type": "code",
   "execution_count": 13,
   "metadata": {},
   "outputs": [
    {
     "data": {
      "image/png": "[encoded data removed]",
      "text/plain": [
       "<Figure size 1200x800 with 4 Axes>"
      ]
     },
     "metadata": {},
     "output_type": "display_data"
    }
   ],
   "source": [
    "# Define el color personalizado\n",
    "color = '#D3A688'\n",
    "\n",
    "# Crea el histograma con estilo personalizado\n",
    "df.hist(bins=50, figsize=(12, 8), color=color)\n",
    "\n",
    "# Añade título y etiquetas de los ejes si es necesario\n",
    "plt.xlabel('Valores', fontsize=14)\n",
    "plt.ylabel('Frecuencia', fontsize=14)\n",
    "\n",
    "# Personaliza el tamaño de las etiquetas de los ejes\n",
    "plt.xticks(fontsize=12)\n",
    "plt.yticks(fontsize=12)\n",
    "\n",
    "# Guardar el gráfico como imagen \n",
    "plt.savefig('../utils/histograma_columnas_numercias.png')\n",
    "\n",
    "# Muestra el histograma\n",
    "plt.show()"
   ]
  },
  {
   "cell_type": "markdown",
   "metadata": {},
   "source": [
    "Podemos observar que la única columna que tiene una distribución normal es 'imc', mientras que a las otras, habrá que aplicarle ciertas transformaciones para un mejor rendimiento de los modelos."
   ]
  },
  {
   "cell_type": "markdown",
   "metadata": {},
   "source": [
    "#### 6.1.1. Distribución columna 'edad'"
   ]
  },
  {
   "cell_type": "code",
   "execution_count": 24,
   "metadata": {},
   "outputs": [
    {
     "data": {
      "image/png": "[encoded data removed]",
      "text/plain": [
       "<Figure size 1200x500 with 1 Axes>"
      ]
     },
     "metadata": {},
     "output_type": "display_data"
    }
   ],
   "source": [
    "# Establece el tamaño de la figura\n",
    "plt.figure(figsize=(12, 5))\n",
    "\n",
    "# Título del gráfico\n",
    "plt.title(\"Distribución de la edad\")\n",
    "\n",
    "# Utiliza Seaborn para crear el histograma con el color personalizado\n",
    "ax = sns.histplot(df[\"edad\"], color='#D3A688', kde=True)\n",
    "\n",
    "# Ajustes estéticos\n",
    "plt.xlabel(\"Edad\")\n",
    "plt.ylabel(\"Frecuencia\")\n",
    "\n",
    "# Guardar el gráfico como imagen \n",
    "plt.savefig('../utils/distribución_edad.png')\n",
    "\n",
    "# Muestra el gráfico\n",
    "plt.show()\n"
   ]
  },
  {
   "cell_type": "markdown",
   "metadata": {},
   "source": [
    "#### 6.1.2. Distribución columna 'sexo'"
   ]
  },
  {
   "cell_type": "code",
   "execution_count": 26,
   "metadata": {},
   "outputs": [
    {
     "data": {
      "image/png": "[encoded data removed]",
      "text/plain": [
       "<Figure size 800x600 with 1 Axes>"
      ]
     },
     "metadata": {},
     "output_type": "display_data"
    }
   ],
   "source": [
    "# Crear un nuevo DataFrame con la columna traducida\n",
    "df_sexo = pd.DataFrame()\n",
    "df_sexo['sexo_traducido'] = df['sexo'].map({'female': 'femenino', 'male': 'masculino'})\n",
    "\n",
    "# Establecer los colores\n",
    "colores = {'femenino': '#B5837D', 'masculino': '#BABF95'}\n",
    "\n",
    "# Crear el gráfico de barras\n",
    "plt.figure(figsize=(8, 6))\n",
    "sns.countplot(x='sexo_traducido', data=df_sexo, palette=colores)\n",
    "\n",
    "# Ajustes estéticos\n",
    "plt.title('Distribución de género')\n",
    "plt.xlabel('Género')\n",
    "plt.ylabel('Frecuencia')\n",
    "\n",
    "# Guardar el gráfico como imagen \n",
    "plt.savefig('../utils/distribución_sexo.png')\n",
    "\n",
    "# Mostrar el gráfico\n",
    "plt.show()\n",
    "\n"
   ]
  },
  {
   "cell_type": "markdown",
   "metadata": {},
   "source": [
    "#### 6.1.3. Distribución columna 'imc'"
   ]
  },
  {
   "cell_type": "code",
   "execution_count": 27,
   "metadata": {},
   "outputs": [
    {
     "data": {
      "image/png": "[encoded data removed]",
      "text/plain": [
       "<Figure size 1200x500 with 1 Axes>"
      ]
     },
     "metadata": {},
     "output_type": "display_data"
    }
   ],
   "source": [
    "# Establece el tamaño de la figura\n",
    "plt.figure(figsize=(12, 5))\n",
    "\n",
    "# Título del gráfico\n",
    "plt.title(\"Distribución del Índice de Masa Corporal (IMC)\")\n",
    "\n",
    "# Utiliza Seaborn para crear el histograma con el color personalizado\n",
    "ax = sns.histplot(df[\"imc\"], color='#D3A688', kde=True)\n",
    "\n",
    "# Ajustes estéticos\n",
    "plt.xlabel(\"IMC\")\n",
    "plt.ylabel(\"Frecuencia\")\n",
    "\n",
    "# Guardar el gráfico como imagen \n",
    "plt.savefig('../utils/distribución_imc.png')\n",
    "\n",
    "# Muestra el gráfico\n",
    "plt.show()\n"
   ]
  },
  {
   "cell_type": "markdown",
   "metadata": {},
   "source": [
    "#### 6.1.4. Distribución columna 'hijos'"
   ]
  },
  {
   "cell_type": "code",
   "execution_count": 28,
   "metadata": {},
   "outputs": [
    {
     "data": {
      "image/png": "[encoded data removed]",
      "text/plain": [
       "<Figure size 1200x500 with 1 Axes>"
      ]
     },
     "metadata": {},
     "output_type": "display_data"
    }
   ],
   "source": [
    "# Establecer el tamaño de la figura\n",
    "plt.figure(figsize=(12, 5))\n",
    "\n",
    "# Título del gráfico\n",
    "plt.title(\"Distribución del número de hijos\")\n",
    "\n",
    "# Utilizar Seaborn para crear el histograma con el color personalizado\n",
    "ax = sns.histplot(df[\"hijos\"], color='#D3A688', kde=True)\n",
    "\n",
    "# Ajustes estéticos\n",
    "plt.xlabel(\"Número de hijos\")\n",
    "plt.ylabel(\"Frecuencia\")\n",
    "\n",
    "# Guardar el gráfico como imagen \n",
    "plt.savefig('../utils/distribución_hijos.png')\n",
    "\n",
    "# Mostrar el gráfico\n",
    "plt.show()\n"
   ]
  },
  {
   "cell_type": "markdown",
   "metadata": {},
   "source": [
    "#### 6.1.5. Distribución columna 'fumador'"
   ]
  },
  {
   "cell_type": "code",
   "execution_count": 29,
   "metadata": {},
   "outputs": [
    {
     "data": {
      "image/png": "[encoded data removed]",
      "text/plain": [
       "<Figure size 800x600 with 1 Axes>"
      ]
     },
     "metadata": {},
     "output_type": "display_data"
    }
   ],
   "source": [
    "# Crear un nuevo DataFrame con la columna traducida\n",
    "df_fumador = pd.DataFrame()\n",
    "df_fumador['fumador_traducido'] = df['fumador'].map({'yes': 'si', 'no': 'no'})\n",
    "\n",
    "# Establecer los colores\n",
    "colores = {'si': '#EE4444', 'no': '#639438'}\n",
    "\n",
    "# Crear el gráfico de barras\n",
    "plt.figure(figsize=(8, 6))\n",
    "sns.countplot(x='fumador_traducido', data=df_fumador, palette=colores)\n",
    "\n",
    "# Ajustes estéticos\n",
    "plt.title('Distribución de fumadores')\n",
    "plt.xlabel('Fumador')\n",
    "plt.ylabel('Frecuencia')\n",
    "\n",
    "# Guardar el gráfico como imagen \n",
    "plt.savefig('../utils/distribución_fumador.png')\n",
    "\n",
    "# Mostrar el gráfico\n",
    "plt.show()\n"
   ]
  },
  {
   "cell_type": "markdown",
   "metadata": {},
   "source": [
    "#### 6.1.6. Distribución columna 'region'"
   ]
  },
  {
   "cell_type": "code",
   "execution_count": 30,
   "metadata": {},
   "outputs": [
    {
     "data": {
      "image/png": "[encoded data removed]",
      "text/plain": [
       "<Figure size 800x600 with 1 Axes>"
      ]
     },
     "metadata": {},
     "output_type": "display_data"
    }
   ],
   "source": [
    "# Configurar la paleta de colores con un solo color y diferentes tonos para el efecto difuminado\n",
    "color = '#D3A688'\n",
    "paleta_colores = sns.light_palette(color, n_colors=4, reverse=True)\n",
    "\n",
    "# Crear el gráfico de barras\n",
    "plt.figure(figsize=(8, 6))\n",
    "sns.countplot(x='region', data=df, palette=paleta_colores)\n",
    "\n",
    "# Ajustes estéticos\n",
    "plt.title('Distribución por Región')\n",
    "plt.xlabel('Región')\n",
    "plt.ylabel('Frecuencia')\n",
    "\n",
    "# Mostrar el gráfico\n",
    "plt.show()\n"
   ]
  },
  {
   "cell_type": "markdown",
   "metadata": {},
   "source": [
    "#### 6.1.7. Distribución columna 'costo'"
   ]
  },
  {
   "cell_type": "code",
   "execution_count": 31,
   "metadata": {},
   "outputs": [
    {
     "data": {
      "image/png": "[encoded data removed]",
      "text/plain": [
       "<Figure size 1200x500 with 1 Axes>"
      ]
     },
     "metadata": {},
     "output_type": "display_data"
    }
   ],
   "source": [
    "# Establecer el tamaño de la figura\n",
    "plt.figure(figsize=(12, 5))\n",
    "\n",
    "# Título del gráfico\n",
    "plt.title(\"Distribución del Costo\")\n",
    "\n",
    "# Utilizar Seaborn para crear el histograma con el color personalizado\n",
    "ax = sns.histplot(df[\"costo\"], color='#D3A688', kde=True)\n",
    "\n",
    "# Ajustes estéticos\n",
    "plt.xlabel(\"Costo\")\n",
    "plt.ylabel(\"Frecuencia\")\n",
    "\n",
    "# Guardar el gráfico como imagen \n",
    "plt.savefig('../utils/distribución_costo.png')\n",
    "\n",
    "# Mostrar el gráfico\n",
    "plt.show()\n"
   ]
  },
  {
   "cell_type": "code",
   "execution_count": 37,
   "metadata": {},
   "outputs": [
    {
     "data": {
      "image/png": "[encoded data removed]",
      "text/plain": [
       "<Figure size 1000x600 with 1 Axes>"
      ]
     },
     "metadata": {},
     "output_type": "display_data"
    }
   ],
   "source": [
    "# Calcular el rango intercuartílico\n",
    "Q1 = df[\"costo\"].quantile(0.25)\n",
    "Q3 = df[\"costo\"].quantile(0.75)\n",
    "IQR = Q3 - Q1\n",
    "\n",
    "# Establecer los límites para los outliers\n",
    "limite_superior = Q3 + 1.5 * IQR\n",
    "\n",
    "# Establecer el tamaño de la figura\n",
    "plt.figure(figsize=(10, 6))\n",
    "\n",
    "# Crear el boxplot\n",
    "sns.boxplot(x=df[\"costo\"], color='#D3A688')\n",
    "\n",
    "# Dibujar líneas para los límites del rango intercuartílico\n",
    "plt.axvline(x=limite_superior, linestyle='--', color='#464344', label='Límite Superior (1.5*IQR)')\n",
    "\n",
    "# Ajustar límites del eje x\n",
    "plt.xlim(left=0, right=limite_superior + 1.5 * IQR)\n",
    "\n",
    "# Ajustes estéticos\n",
    "plt.title(\"Boxplot de la Variable 'Costo' con Límites de Rango Intercuartílico\")\n",
    "plt.xlabel(\"Costo\")\n",
    "plt.legend()\n",
    "plt.grid(True)\n",
    "\n",
    "# Guardar el gráfico como imagen \n",
    "plt.savefig('../utils/boxplot_costo.png')\n",
    "\n",
    "# Mostrar el gráfico\n",
    "plt.show()\n"
   ]
  },
  {
   "cell_type": "markdown",
   "metadata": {},
   "source": [
    "## 7. TRANSFORMACIÓN COLUMNAS A NUMÉRICAS"
   ]
  },
  {
   "cell_type": "markdown",
   "metadata": {},
   "source": [
    "### 7.1. Columna 'smoker' - Mapeo de categorías "
   ]
  },
  {
   "cell_type": "code",
   "execution_count": 15,
   "metadata": {},
   "outputs": [],
   "source": [
    "mapeo_fumador = {'yes': 1, 'no': 0}\n",
    "\n",
    "df['fumador'] = df['fumador'].map(mapeo_fumador)"
   ]
  },
  {
   "cell_type": "markdown",
   "metadata": {},
   "source": [
    "### 7.2. Columna 'sexo' - Mapeo de categorías"
   ]
  },
  {
   "cell_type": "code",
   "execution_count": 16,
   "metadata": {},
   "outputs": [],
   "source": [
    "df['es_femenino'] = df['sexo'].map({'female': 1, 'male': 0})\n",
    "\n",
    "df.drop('sexo', axis=1, inplace=True)"
   ]
  },
  {
   "cell_type": "markdown",
   "metadata": {},
   "source": [
    "### 7.3. Columna 'region' - LabelEnconder"
   ]
  },
  {
   "cell_type": "code",
   "execution_count": 17,
   "metadata": {},
   "outputs": [],
   "source": [
    "label_encoder = LabelEncoder()\n",
    "df['regiones'] = label_encoder.fit_transform(df['region'])\n",
    "\n",
    "df.drop('region', axis=1, inplace=True)"
   ]
  },
  {
   "cell_type": "markdown",
   "metadata": {},
   "source": [
    "### 7.4. Análisis correlación total variables numéricas"
   ]
  },
  {
   "cell_type": "code",
   "execution_count": 37,
   "metadata": {},
   "outputs": [
    {
     "data": {
      "image/png": "[encoded data removed]",
      "text/plain": [
       "<Figure size 800x500 with 2 Axes>"
      ]
     },
     "metadata": {},
     "output_type": "display_data"
    }
   ],
   "source": [
    "# Calcular la matriz de correlación\n",
    "correlacion = df.corr()\n",
    "\n",
    "# Establecer el tamaño de la figura\n",
    "plt.figure(figsize=(8, 5))\n",
    "\n",
    "# Crear el mapa de calor con el mapa de colores 'rocket_r'\n",
    "sns.heatmap(correlacion, annot=True, cmap=sns.color_palette('rocket_r', as_cmap=True), fmt=\".2f\", linewidths=0.5, linecolor='black')\n",
    "\n",
    "# Ajustes estéticos\n",
    "plt.title('Mapa de Calor de Correlación')\n",
    "plt.xticks(rotation=0)\n",
    "plt.yticks(rotation=0)\n",
    "\n",
    "# Guardar el gráfico como imagen \n",
    "plt.savefig('../utils/heatmap_corr_total.png')\n",
    "\n",
    "# Mostrar el gráfico\n",
    "plt.show()\n",
    "\n"
   ]
  },
  {
   "cell_type": "code",
   "execution_count": 19,
   "metadata": {},
   "outputs": [
    {
     "name": "stdout",
     "output_type": "stream",
     "text": [
      "La correlación entre 'regiones' y 'costo' no es significativa (p-value >= 0.05)\n",
      "Por lo tanto, puede ser eliminada\n"
     ]
    }
   ],
   "source": [
    "# Calcular la correlación de Pearson entre 'regiones' y 'costo'\n",
    "correlation_coef, p_value = pearsonr(df['regiones'], df['costo'])\n",
    "\n",
    "# Nivel de significancia (alpha)\n",
    "alpha = 0.05\n",
    "\n",
    "# Comprobar si la correlación es significativa\n",
    "if p_value < alpha:\n",
    "    print(\"La correlación entre 'regiones' y 'costo' es significativa (p-value < 0.05)\")\n",
    "else:\n",
    "    print(\"La correlación entre 'regiones' y 'costo' no es significativa (p-value >= 0.05)\")\n",
    "    print(\"Por lo tanto, puede ser eliminada\")"
   ]
  },
  {
   "cell_type": "markdown",
   "metadata": {},
   "source": [
    "#### 7.4.1. Eliminación columna 'regiones'"
   ]
  },
  {
   "cell_type": "markdown",
   "metadata": {},
   "source": [
    "Al observar la poca correlación entre la target y la variable 'regiones' decido eliminar dicha columna para evitar la colinealidad y disminuirle 'ruido' al modelo. "
   ]
  },
  {
   "cell_type": "code",
   "execution_count": 20,
   "metadata": {},
   "outputs": [],
   "source": [
    "df = df.drop(['regiones'], axis=1)"
   ]
  },
  {
   "cell_type": "markdown",
   "metadata": {},
   "source": [
    "### 7.5. Guardo CSV con transformaciones numéricas"
   ]
  },
  {
   "cell_type": "code",
   "execution_count": 21,
   "metadata": {},
   "outputs": [],
   "source": [
    "df.to_csv('../data/processed/df_numerico_para_F_E.csv')"
   ]
  },
  {
   "cell_type": "markdown",
   "metadata": {},
   "source": [
    "## 8. DIVISIÓN DE DATOS "
   ]
  },
  {
   "cell_type": "code",
   "execution_count": 4,
   "metadata": {},
   "outputs": [],
   "source": [
    "df = pd.read_csv('../data/processed/df_numerico_para_F_E.csv', index_col=[0])"
   ]
  },
  {
   "cell_type": "markdown",
   "metadata": {},
   "source": [
    "En primer lugar, hay que realizar la división de los datos entre las características, es decir, las variables independientes/features que sería **'X'**, y la target, que sería la variable dependiente, o sea, **'y'**. \n",
    "\n",
    "**'y'** es la variable objetivo, aquello que queremos predecir con los modelos de Regresión Lineal, dado que es una variable numérica continua. "
   ]
  },
  {
   "cell_type": "code",
   "execution_count": 5,
   "metadata": {},
   "outputs": [],
   "source": [
    "X = df.drop(columns='costo') \n",
    "y = df['costo']      "
   ]
  },
  {
   "cell_type": "code",
   "execution_count": 7,
   "metadata": {},
   "outputs": [],
   "source": [
    "X_train, X_test, y_train, y_test = train_test_split(X, y, test_size=0.2, random_state=42)"
   ]
  },
  {
   "cell_type": "markdown",
   "metadata": {},
   "source": [
    "Guardaré en una variable el conjunto de datos de prueba respecto a las features, para luego de hacer las predicciones, unirlas en un DataFrame y poder observar los resultados."
   ]
  },
  {
   "cell_type": "code",
   "execution_count": 8,
   "metadata": {},
   "outputs": [],
   "source": [
    "X_test_original = X_test.copy()"
   ]
  },
  {
   "cell_type": "code",
   "execution_count": 9,
   "metadata": {},
   "outputs": [
    {
     "name": "stdout",
     "output_type": "stream",
     "text": [
      "X_train: (1069, 5)\n",
      "y_train: (1069,)\n",
      "X_test: (268, 5)\n",
      "y_test: (268,)\n"
     ]
    }
   ],
   "source": [
    "print(\"X_train:\", X_train.shape)\n",
    "print(\"y_train:\", y_train.shape)\n",
    "print(\"X_test:\", X_test.shape)\n",
    "print(\"y_test:\", y_test.shape)"
   ]
  },
  {
   "cell_type": "markdown",
   "metadata": {},
   "source": [
    "## 9. FEATURE ENGINEERING"
   ]
  },
  {
   "cell_type": "markdown",
   "metadata": {},
   "source": [
    "### 9.1. Logaritmo a 'costo' y 'edad' "
   ]
  },
  {
   "cell_type": "markdown",
   "metadata": {},
   "source": [
    "Como hemos visto en el EDA, la variable 'edad' y 'costo' que es la target, no tienen una distirbución normal, y algunos modelos, pueden ser menos robustos cuando los datos no son normalmente distribuidos, lo que significa que son más sensibles a los valores atípicos o a la falta de normalidad en los datos.\n",
    "\n",
    "Por lo que, le aplicaremos logaritmo a `'costo'` (que es la y) y la variable `'edad'` (en x)"
   ]
  },
  {
   "cell_type": "code",
   "execution_count": 10,
   "metadata": {},
   "outputs": [],
   "source": [
    "# Logaritmo de la target 'costo'\n",
    "y_train = np.log(y_train)\n",
    "y_test = np.log(y_test) \n",
    "\n",
    "# Logaritmo de 'edad'\n",
    "X_train['edad'] = np.log(X_train['edad']) \n",
    "X_test['edad'] = np.log(X_test['edad'])"
   ]
  },
  {
   "cell_type": "markdown",
   "metadata": {},
   "source": [
    "### 9.2. Escalado a 'costo', 'edad', 'imc', 'hijos'"
   ]
  },
  {
   "cell_type": "markdown",
   "metadata": {},
   "source": [
    "Por otro lado, le aplicamos una misma escala a ciertas variables mediante `StandardScaler`, el cual transforma los datos de manera que la media de cada característica sea cero y la desviación estándar sea uno. <br>\n",
    "Lo que significa que todas las características estarán en la misma escala y tendrán la misma varianza, lo que facilita la comparación entre ellas y ayuda a los algoritmos a converger más rápido."
   ]
  },
  {
   "cell_type": "code",
   "execution_count": 11,
   "metadata": {},
   "outputs": [],
   "source": [
    "# Creamos un objeto StandardScaler para 'X'\n",
    "scaler_X = StandardScaler()\n",
    "\n",
    "# Definimos las columnas a escalar\n",
    "columns_to_scale = ['edad', 'hijos', 'imc']\n",
    "\n",
    "# Ajustamos y transformamos X_train\n",
    "X_train[columns_to_scale] = scaler_X.fit_transform(X_train[columns_to_scale])\n",
    "\n",
    "# Aplicamos la misma transformación a X_test\n",
    "X_test[columns_to_scale] = scaler_X.transform(X_test[columns_to_scale])"
   ]
  },
  {
   "cell_type": "code",
   "execution_count": 12,
   "metadata": {},
   "outputs": [],
   "source": [
    "# Creamos un objeto StandardScaler para 'y'\n",
    "scaler_y = StandardScaler()\n",
    "\n",
    "# Ajustamos y transformamos y_train\n",
    "y_train = scaler_y.fit_transform(y_train.values.reshape(-1, 1)).flatten()\n",
    "\n",
    "# Aplicamos la misma transformación a y_test\n",
    "y_test = scaler_y.transform(y_test.values.reshape(-1, 1)).flatten()"
   ]
  },
  {
   "cell_type": "markdown",
   "metadata": {},
   "source": [
    "## 10. BASE LINE Y CROSS VALIDATION"
   ]
  },
  {
   "cell_type": "code",
   "execution_count": 13,
   "metadata": {},
   "outputs": [],
   "source": [
    "def rmse(y_true, y_pred):\n",
    "    return np.sqrt(mean_squared_error(y_true, y_pred))\n",
    "\n",
    "modelos = {\n",
    "    \"LinearRegression\": LinearRegression(),\n",
    "    \"Ridge\": Ridge(),\n",
    "    \"SVR\": SVR(),\n",
    "    \"DecisionTreeRegressor\": DecisionTreeRegressor(),\n",
    "    \"RandomForestRegressor\": RandomForestRegressor(),\n",
    "    \"KNeighborsRegressor\": KNeighborsRegressor(),\n",
    "    \"GradientBoostingRegressor\": GradientBoostingRegressor(),\n",
    "    \"XGBRegressor\": XGBRegressor(),\n",
    "    \"LGBMRegressor\": LGBMRegressor(silent=True, verbose=-1),\n",
    "    \"CatBoostRegressor\": CatBoostRegressor(silent=True) \n",
    "}\n",
    "\n",
    "scoring = {'R2': 'r2', 'RMSE': make_scorer(rmse, greater_is_better=False)}\n",
    "\n",
    "resultados = {}\n",
    "\n",
    "for nombre, modelo in modelos.items():\n",
    "    scores = cross_validate(modelo, X_train, y_train, cv=3, scoring=scoring)\n",
    "    \n",
    "    mean_rmse = np.mean(-scores['test_RMSE'])\n",
    "\n",
    "    resultados[nombre] = {\n",
    "        'R2': np.mean(scores['test_R2']),\n",
    "        'RMSE': mean_rmse\n",
    "    }"
   ]
  },
  {
   "cell_type": "code",
   "execution_count": 14,
   "metadata": {},
   "outputs": [
    {
     "data": {
      "text/html": [
       "<div>\n",
       "<style scoped>\n",
       "    .dataframe tbody tr th:only-of-type {\n",
       "        vertical-align: middle;\n",
       "    }\n",
       "\n",
       "    .dataframe tbody tr th {\n",
       "        vertical-align: top;\n",
       "    }\n",
       "\n",
       "    .dataframe thead th {\n",
       "        text-align: right;\n",
       "    }\n",
       "</style>\n",
       "<table border=\"1\" class=\"dataframe\">\n",
       "  <thead>\n",
       "    <tr style=\"text-align: right;\">\n",
       "      <th></th>\n",
       "      <th>R2</th>\n",
       "      <th>RMSE</th>\n",
       "    </tr>\n",
       "  </thead>\n",
       "  <tbody>\n",
       "    <tr>\n",
       "      <th>GradientBoostingRegressor</th>\n",
       "      <td>0.803839</td>\n",
       "      <td>0.442633</td>\n",
       "    </tr>\n",
       "    <tr>\n",
       "      <th>SVR</th>\n",
       "      <td>0.803212</td>\n",
       "      <td>0.443247</td>\n",
       "    </tr>\n",
       "    <tr>\n",
       "      <th>LGBMRegressor</th>\n",
       "      <td>0.788792</td>\n",
       "      <td>0.459266</td>\n",
       "    </tr>\n",
       "    <tr>\n",
       "      <th>CatBoostRegressor</th>\n",
       "      <td>0.787071</td>\n",
       "      <td>0.461026</td>\n",
       "    </tr>\n",
       "    <tr>\n",
       "      <th>RandomForestRegressor</th>\n",
       "      <td>0.774757</td>\n",
       "      <td>0.473677</td>\n",
       "    </tr>\n",
       "    <tr>\n",
       "      <th>LinearRegression</th>\n",
       "      <td>0.744194</td>\n",
       "      <td>0.505479</td>\n",
       "    </tr>\n",
       "    <tr>\n",
       "      <th>Ridge</th>\n",
       "      <td>0.744162</td>\n",
       "      <td>0.505512</td>\n",
       "    </tr>\n",
       "    <tr>\n",
       "      <th>KNeighborsRegressor</th>\n",
       "      <td>0.735820</td>\n",
       "      <td>0.513513</td>\n",
       "    </tr>\n",
       "    <tr>\n",
       "      <th>XGBRegressor</th>\n",
       "      <td>0.728810</td>\n",
       "      <td>0.520397</td>\n",
       "    </tr>\n",
       "    <tr>\n",
       "      <th>DecisionTreeRegressor</th>\n",
       "      <td>0.585555</td>\n",
       "      <td>0.638053</td>\n",
       "    </tr>\n",
       "  </tbody>\n",
       "</table>\n",
       "</div>"
      ],
      "text/plain": [
       "                                 R2      RMSE\n",
       "GradientBoostingRegressor  0.803839  0.442633\n",
       "SVR                        0.803212  0.443247\n",
       "LGBMRegressor              0.788792  0.459266\n",
       "CatBoostRegressor          0.787071  0.461026\n",
       "RandomForestRegressor      0.774757  0.473677\n",
       "LinearRegression           0.744194  0.505479\n",
       "Ridge                      0.744162  0.505512\n",
       "KNeighborsRegressor        0.735820  0.513513\n",
       "XGBRegressor               0.728810  0.520397\n",
       "DecisionTreeRegressor      0.585555  0.638053"
      ]
     },
     "execution_count": 14,
     "metadata": {},
     "output_type": "execute_result"
    }
   ],
   "source": [
    "df_resultados = pd.DataFrame(resultados).T \n",
    "df_resultados.sort_values(by='R2', ascending=False)"
   ]
  },
  {
   "cell_type": "markdown",
   "metadata": {},
   "source": [
    "En el DataFrame anterior, podemos ver en orden aquellos modelos que generalizan mejor: \n",
    "1. Gradient Boosting Regressor.\n",
    "2. SVR - Support Vector Regression.\n",
    "3. LGBM Regressor.\n",
    "4. CatBoost Regressor.\n",
    "5. RandomForest Regressor.\n",
    "\n",
    "Cuando el coeficiente de determinación (R2) es alto, generalmente significa que el modelo es capaz de explicar una gran proporción de la variabilidad de los datos de respuesta utilizando las variables predictoras.\n",
    "\n",
    "Es decir, en el contexto de un modelo de regresión, un alto indica que las predicciones del modelo se ajustan bien a los datos observados."
   ]
  },
  {
   "cell_type": "markdown",
   "metadata": {},
   "source": [
    "## 11. BÚSQUEDA DE HIPERPARÁMETROS CON GRIDSEARCH Y MEJOR MODELO"
   ]
  },
  {
   "cell_type": "markdown",
   "metadata": {},
   "source": [
    "Seguidamente, realizaremos la búsqueda de los mejores hiperparámetros según cada modelo mediante `GridSearchCV`"
   ]
  },
  {
   "cell_type": "markdown",
   "metadata": {},
   "source": [
    "### 11.1. SVR - Support Vector Regression"
   ]
  },
  {
   "cell_type": "code",
   "execution_count": 15,
   "metadata": {},
   "outputs": [
    {
     "name": "stdout",
     "output_type": "stream",
     "text": [
      "Mejores hiperparámetros encontrados:\n",
      "{'C': 10, 'epsilon': 0.1, 'gamma': 'auto', 'kernel': 'rbf'}\n",
      "Mejor puntuación de validación cruzada: 0.80608525637243\n",
      "R^2 en datos de entrenamiento: 0.8204164648824043\n",
      "R^2 en datos de prueba: 0.8764460374877766\n"
     ]
    }
   ],
   "source": [
    "modelo_svr = SVR()\n",
    "\n",
    "parametros = {\n",
    "    'kernel': ['linear', 'rbf', 'poly'],\n",
    "    'C': [0.1, 1, 10],\n",
    "    'epsilon': [0.1, 0.01, 0.001],\n",
    "    'gamma': ['scale', 'auto']\n",
    "}\n",
    "\n",
    "grid_search = GridSearchCV(modelo_svr, parametros, cv=3, scoring='r2', n_jobs=-1)\n",
    "\n",
    "grid_search.fit(X_train, y_train)\n",
    "\n",
    "print(\"Mejores hiperparámetros encontrados:\")\n",
    "print(grid_search.best_params_)\n",
    "\n",
    "print(\"Mejor puntuación de validación cruzada:\", grid_search.best_score_)\n",
    "\n",
    "mejor_modelo_svr = grid_search.best_estimator_\n",
    "\n",
    "with open('../models/mejor_modelo_svr.pkl', 'wb') as f:\n",
    "    pickle.dump(mejor_modelo_svr, f)\n",
    "\n",
    "predicciones_train = mejor_modelo_svr.predict(X_train)\n",
    "predicciones_test = mejor_modelo_svr.predict(X_test)\n",
    "\n",
    "r2_train = r2_score(y_train, predicciones_train)\n",
    "r2_test = r2_score(y_test, predicciones_test)\n",
    "\n",
    "print('R^2 en datos de entrenamiento:', r2_train)\n",
    "print('R^2 en datos de prueba:', r2_test)"
   ]
  },
  {
   "cell_type": "code",
   "execution_count": 18,
   "metadata": {},
   "outputs": [],
   "source": [
    "with open('../models/mejor_modelo_svr.pkl', 'rb') as f:\n",
    "    modelo_srv = pickle.load(f)"
   ]
  },
  {
   "cell_type": "markdown",
   "metadata": {},
   "source": [
    "### 11.2. GradientBoosting Regressor\n"
   ]
  },
  {
   "cell_type": "code",
   "execution_count": 19,
   "metadata": {},
   "outputs": [
    {
     "name": "stdout",
     "output_type": "stream",
     "text": [
      "Mejores hiperparámetros encontrados:\n",
      "{'learning_rate': 0.1, 'max_depth': 3, 'n_estimators': 50}\n",
      "Mejor puntuación de validación cruzada: 0.8157985399188475\n",
      "R^2 en datos de entrenamiento: 0.8471826180955637\n",
      "R^2 en datos de prueba: 0.8815142546080172\n"
     ]
    }
   ],
   "source": [
    "modelo_gradientboosting = GradientBoostingRegressor()\n",
    "\n",
    "parametros = {\n",
    "    'learning_rate': [0.01, 0.1, 0.5],\n",
    "    'n_estimators': [50, 100, 200],\n",
    "    'max_depth': [3, 5, 7]\n",
    "}\n",
    "\n",
    "grid_search = GridSearchCV(modelo_gradientboosting, parametros, cv=3, scoring='r2', n_jobs=-1)\n",
    "\n",
    "grid_search.fit(X_train, y_train)\n",
    "\n",
    "print(\"Mejores hiperparámetros encontrados:\")\n",
    "print(grid_search.best_params_)\n",
    "\n",
    "print(\"Mejor puntuación de validación cruzada:\", grid_search.best_score_)\n",
    "\n",
    "mejor_modelo_gb = grid_search.best_estimator_\n",
    "\n",
    "# Guardar el modelo\n",
    "with open('../models/my_model.pkl', 'wb') as f:\n",
    "    pickle.dump(mejor_modelo_gb, f)\n",
    "\n",
    "predicciones_train = mejor_modelo_gb.predict(X_train)\n",
    "predicciones_test = mejor_modelo_gb.predict(X_test)\n",
    "\n",
    "r2_train = r2_score(y_train, predicciones_train)\n",
    "r2_test = r2_score(y_test, predicciones_test)\n",
    "\n",
    "print('R^2 en datos de entrenamiento:', r2_train)\n",
    "print('R^2 en datos de prueba:', r2_test)"
   ]
  },
  {
   "cell_type": "code",
   "execution_count": 20,
   "metadata": {},
   "outputs": [],
   "source": [
    "# Cargar el modelo\n",
    "with open('../models/my_model.pkl', 'rb') as f:\n",
    "    my_model = pickle.load(f)"
   ]
  },
  {
   "cell_type": "markdown",
   "metadata": {},
   "source": [
    "### 11.3. LGBM Regressor"
   ]
  },
  {
   "cell_type": "code",
   "execution_count": 21,
   "metadata": {},
   "outputs": [
    {
     "name": "stdout",
     "output_type": "stream",
     "text": [
      "Mejores hiperparámetros encontrados:\n",
      "{'learning_rate': 0.1, 'max_depth': 3, 'n_estimators': 50}\n",
      "Mejor puntuación de validación cruzada: 0.8171298166546593\n",
      "R^2 en datos de entrenamiento: 0.84344971236798\n",
      "R^2 en datos de prueba: 0.8805995795848303\n"
     ]
    }
   ],
   "source": [
    "modelo_lgbm = LGBMRegressor(silent=True, verbose=-1)\n",
    "\n",
    "parametros = {\n",
    "    'learning_rate': [0.01, 0.1, 0.5],\n",
    "    'n_estimators': [50, 100, 200],\n",
    "    'max_depth': [3, 5, 7]\n",
    "}\n",
    "\n",
    "grid_search = GridSearchCV(modelo_lgbm, parametros, cv=3, scoring='r2', n_jobs=-1)\n",
    "\n",
    "grid_search.fit(X_train, y_train)\n",
    "\n",
    "print(\"Mejores hiperparámetros encontrados:\")\n",
    "print(grid_search.best_params_)\n",
    "\n",
    "print(\"Mejor puntuación de validación cruzada:\", grid_search.best_score_)\n",
    "\n",
    "mejor_modelo_lgbm = grid_search.best_estimator_\n",
    "\n",
    "with open('../models/mejor_modelo_lgbm.pkl', 'wb') as f:\n",
    "    pickle.dump(mejor_modelo_lgbm, f)\n",
    "\n",
    "predicciones_train = mejor_modelo_lgbm.predict(X_train)\n",
    "predicciones_test = mejor_modelo_lgbm.predict(X_test)\n",
    "\n",
    "r2_train = r2_score(y_train, predicciones_train)\n",
    "r2_test = r2_score(y_test, predicciones_test)\n",
    "\n",
    "print('R^2 en datos de entrenamiento:', r2_train)\n",
    "print('R^2 en datos de prueba:', r2_test)"
   ]
  },
  {
   "cell_type": "code",
   "execution_count": 22,
   "metadata": {},
   "outputs": [],
   "source": [
    "with open('../models/mejor_modelo_lgbm.pkl', 'rb') as f:\n",
    "    modelo_lgbm = pickle.load(f)"
   ]
  },
  {
   "cell_type": "markdown",
   "metadata": {},
   "source": [
    "### 11.4. CatBoost Regressor"
   ]
  },
  {
   "cell_type": "code",
   "execution_count": 23,
   "metadata": {},
   "outputs": [
    {
     "name": "stdout",
     "output_type": "stream",
     "text": [
      "Mejores hiperparámetros encontrados:\n",
      "{'learning_rate': 0.1, 'max_depth': 5, 'n_estimators': 50}\n",
      "Mejor puntuación de validación cruzada: 0.8168209423408697\n",
      "R^2 en datos de entrenamiento: 0.8396955733015995\n",
      "R^2 en datos de prueba: 0.8782040299406224\n"
     ]
    }
   ],
   "source": [
    "modelo_catboost = CatBoostRegressor(verbose=False)\n",
    "\n",
    "parametros = {\n",
    "    'learning_rate': [0.01, 0.1, 0.5],\n",
    "    'n_estimators': [50, 100, 200],\n",
    "    'max_depth': [3, 5, 7]\n",
    "}\n",
    "\n",
    "grid_search = GridSearchCV(modelo_catboost, parametros, cv=3, scoring='r2', n_jobs=-1)\n",
    "\n",
    "grid_search.fit(X_train, y_train)\n",
    "\n",
    "print(\"Mejores hiperparámetros encontrados:\")\n",
    "print(grid_search.best_params_)\n",
    "\n",
    "print(\"Mejor puntuación de validación cruzada:\", grid_search.best_score_)\n",
    "\n",
    "mejor_modelo_catboost = grid_search.best_estimator_\n",
    "\n",
    "with open('../models/mejor_modelo_catboost.pkl', 'wb') as f:\n",
    "    pickle.dump(mejor_modelo_catboost, f)\n",
    "\n",
    "predicciones_train = mejor_modelo_catboost.predict(X_train)\n",
    "predicciones_test = mejor_modelo_catboost.predict(X_test)\n",
    "\n",
    "r2_train = r2_score(y_train, predicciones_train)\n",
    "r2_test = r2_score(y_test, predicciones_test)\n",
    "\n",
    "print('R^2 en datos de entrenamiento:', r2_train)\n",
    "print('R^2 en datos de prueba:', r2_test)"
   ]
  },
  {
   "cell_type": "code",
   "execution_count": 24,
   "metadata": {},
   "outputs": [],
   "source": [
    "with open('../models/mejor_modelo_catboost.pkl', 'rb') as f:\n",
    "    modelo_catboost = pickle.load(f)"
   ]
  },
  {
   "cell_type": "markdown",
   "metadata": {},
   "source": [
    "### 11.5. RandomForest Regressor"
   ]
  },
  {
   "cell_type": "code",
   "execution_count": 25,
   "metadata": {},
   "outputs": [
    {
     "name": "stdout",
     "output_type": "stream",
     "text": [
      "Mejores hiperparámetros encontrados:\n",
      "{'max_depth': 5, 'n_estimators': 50}\n",
      "Mejor puntuación de validación cruzada: 0.8053518472877363\n",
      "R^2 en datos de entrenamiento: 0.8440823311237966\n",
      "R^2 en datos de prueba: 0.8766864318258601\n"
     ]
    }
   ],
   "source": [
    "modelo_randomforest = RandomForestRegressor()\n",
    "\n",
    "parametros = {\n",
    "    'n_estimators': [50, 100, 200],\n",
    "    'max_depth': [None, 3, 5, 7]\n",
    "}\n",
    "\n",
    "grid_search = GridSearchCV(modelo_randomforest, parametros, cv=3, scoring='r2', n_jobs=-1)\n",
    "\n",
    "grid_search.fit(X_train, y_train)\n",
    "\n",
    "print(\"Mejores hiperparámetros encontrados:\")\n",
    "print(grid_search.best_params_)\n",
    "\n",
    "print(\"Mejor puntuación de validación cruzada:\", grid_search.best_score_)\n",
    "\n",
    "mejor_modelo_rf = grid_search.best_estimator_\n",
    "\n",
    "with open('../models/mejor_modelo_rf.pkl', 'wb') as f:\n",
    "    pickle.dump(mejor_modelo_rf, f)\n",
    "\n",
    "predicciones_train = mejor_modelo_rf.predict(X_train)\n",
    "predicciones_test = mejor_modelo_rf.predict(X_test)\n",
    "\n",
    "r2_train = r2_score(y_train, predicciones_train)\n",
    "r2_test = r2_score(y_test, predicciones_test)\n",
    "\n",
    "print('R^2 en datos de entrenamiento:', r2_train)\n",
    "print('R^2 en datos de prueba:', r2_test)"
   ]
  },
  {
   "cell_type": "code",
   "execution_count": 26,
   "metadata": {},
   "outputs": [],
   "source": [
    "with open('../models/mejor_modelo_rf.pkl', 'rb') as f:\n",
    "    modelo_rf = pickle.load(f)"
   ]
  },
  {
   "cell_type": "markdown",
   "metadata": {},
   "source": [
    "### 11.6. RESULTADO MEJOR MODELO "
   ]
  },
  {
   "cell_type": "markdown",
   "metadata": {},
   "source": [
    "Si analizamos los distintos resultados obtenidos por cada modelo con GridSearch, podemos ver que el modelo que mejor generaliza respecto a los nuevos datos es: **GradientBoosting Regressor**\n"
   ]
  },
  {
   "cell_type": "markdown",
   "metadata": {},
   "source": [
    "## 12. ENTRENAMIENTO MODELO Y PREDICCIONES"
   ]
  },
  {
   "cell_type": "markdown",
   "metadata": {},
   "source": [
    "En conclusión, habiendo observado que el modelo que mejor generaliza los nuevos datos es `GradientBoosting Regressor()`, realizaremos el entrenamiento del modelo y las predicciones. "
   ]
  },
  {
   "cell_type": "code",
   "execution_count": 27,
   "metadata": {},
   "outputs": [
    {
     "name": "stdout",
     "output_type": "stream",
     "text": [
      "R^2 en datos de entrenamiento: 0.8471826180955637\n",
      "R^2 en datos de prueba: 0.8815142546080172\n"
     ]
    }
   ],
   "source": [
    "my_model = GradientBoostingRegressor(learning_rate=0.1,\n",
    "                                     max_depth=3, \n",
    "                                     n_estimators=50)\n",
    "\n",
    "# Entrenmiento\n",
    "my_model.fit(X_train, y_train)\n",
    "\n",
    "# Predicciones en datos de entrenamiento y prueba\n",
    "predicciones_train = my_model.predict(X_train)\n",
    "predicciones_test = my_model.predict(X_test)\n",
    "\n",
    "# R^2 en datos de entrenamiento y prueba\n",
    "r2_train = r2_score(y_train, predicciones_train)\n",
    "r2_test = r2_score(y_test, predicciones_test)\n",
    "\n",
    "print('R^2 en datos de entrenamiento:', r2_train)\n",
    "print('R^2 en datos de prueba:', r2_test)"
   ]
  },
  {
   "cell_type": "markdown",
   "metadata": {},
   "source": [
    "### 12.1. CONCLUSIONES"
   ]
  },
  {
   "cell_type": "markdown",
   "metadata": {},
   "source": [
    "El modelo que hemos entrenado muestra un buen rendimiento tanto en los datos de entrenamiento como en los de prueba. \n",
    "\n",
    "Para los ***datos de entrenamiento***, el coeficiente de determinación (R^2) es del **84.7%**, lo que indica que el modelo explica aproximadamente el 84.7% de la variabilidad en los datos. \n",
    "\n",
    "En cuanto a los ***datos de prueba***, el R^2 es del **88.2%**, lo que sugiere que el modelo generaliza bien para nuevos datos, mostrando un buen poder predictivo en general.\""
   ]
  },
  {
   "cell_type": "markdown",
   "metadata": {},
   "source": [
    "### 12.2. REVERSIÓN DE TRANSFORMACIONES"
   ]
  },
  {
   "cell_type": "code",
   "execution_count": 28,
   "metadata": {},
   "outputs": [],
   "source": [
    "y_test_inverso = np.exp(scaler_y.inverse_transform(predicciones_test.reshape(-1, 1)))"
   ]
  },
  {
   "cell_type": "markdown",
   "metadata": {},
   "source": [
    "### 12.3. RESULTADOS PREDICCIONES CON LOS DATOS "
   ]
  },
  {
   "cell_type": "code",
   "execution_count": 29,
   "metadata": {},
   "outputs": [],
   "source": [
    "predicciones_df = pd.DataFrame(y_test_inverso, columns=['Predicciones'], index=X_test_original.index)\n",
    "\n",
    "datos_prueba_con_predicciones = pd.concat([X_test_original, predicciones_df], axis=1)"
   ]
  },
  {
   "cell_type": "code",
   "execution_count": 30,
   "metadata": {},
   "outputs": [
    {
     "data": {
      "text/html": [
       "<div>\n",
       "<style scoped>\n",
       "    .dataframe tbody tr th:only-of-type {\n",
       "        vertical-align: middle;\n",
       "    }\n",
       "\n",
       "    .dataframe tbody tr th {\n",
       "        vertical-align: top;\n",
       "    }\n",
       "\n",
       "    .dataframe thead th {\n",
       "        text-align: right;\n",
       "    }\n",
       "</style>\n",
       "<table border=\"1\" class=\"dataframe\">\n",
       "  <thead>\n",
       "    <tr style=\"text-align: right;\">\n",
       "      <th></th>\n",
       "      <th>edad</th>\n",
       "      <th>imc</th>\n",
       "      <th>hijos</th>\n",
       "      <th>fumador</th>\n",
       "      <th>es_femenino</th>\n",
       "      <th>Predicciones</th>\n",
       "    </tr>\n",
       "  </thead>\n",
       "  <tbody>\n",
       "    <tr>\n",
       "      <th>900</th>\n",
       "      <td>49</td>\n",
       "      <td>22.515</td>\n",
       "      <td>0</td>\n",
       "      <td>0</td>\n",
       "      <td>0</td>\n",
       "      <td>9681.312521</td>\n",
       "    </tr>\n",
       "    <tr>\n",
       "      <th>1064</th>\n",
       "      <td>29</td>\n",
       "      <td>25.600</td>\n",
       "      <td>4</td>\n",
       "      <td>0</td>\n",
       "      <td>1</td>\n",
       "      <td>7243.519269</td>\n",
       "    </tr>\n",
       "    <tr>\n",
       "      <th>1256</th>\n",
       "      <td>51</td>\n",
       "      <td>36.385</td>\n",
       "      <td>3</td>\n",
       "      <td>0</td>\n",
       "      <td>1</td>\n",
       "      <td>11579.925322</td>\n",
       "    </tr>\n",
       "    <tr>\n",
       "      <th>298</th>\n",
       "      <td>31</td>\n",
       "      <td>34.390</td>\n",
       "      <td>3</td>\n",
       "      <td>1</td>\n",
       "      <td>0</td>\n",
       "      <td>38101.210023</td>\n",
       "    </tr>\n",
       "    <tr>\n",
       "      <th>237</th>\n",
       "      <td>31</td>\n",
       "      <td>38.390</td>\n",
       "      <td>2</td>\n",
       "      <td>0</td>\n",
       "      <td>0</td>\n",
       "      <td>5651.622852</td>\n",
       "    </tr>\n",
       "    <tr>\n",
       "      <th>...</th>\n",
       "      <td>...</td>\n",
       "      <td>...</td>\n",
       "      <td>...</td>\n",
       "      <td>...</td>\n",
       "      <td>...</td>\n",
       "      <td>...</td>\n",
       "    </tr>\n",
       "    <tr>\n",
       "      <th>534</th>\n",
       "      <td>64</td>\n",
       "      <td>40.480</td>\n",
       "      <td>0</td>\n",
       "      <td>0</td>\n",
       "      <td>0</td>\n",
       "      <td>13793.204759</td>\n",
       "    </tr>\n",
       "    <tr>\n",
       "      <th>542</th>\n",
       "      <td>63</td>\n",
       "      <td>36.300</td>\n",
       "      <td>0</td>\n",
       "      <td>0</td>\n",
       "      <td>1</td>\n",
       "      <td>13914.866987</td>\n",
       "    </tr>\n",
       "    <tr>\n",
       "      <th>760</th>\n",
       "      <td>22</td>\n",
       "      <td>34.580</td>\n",
       "      <td>2</td>\n",
       "      <td>0</td>\n",
       "      <td>1</td>\n",
       "      <td>4752.955249</td>\n",
       "    </tr>\n",
       "    <tr>\n",
       "      <th>1284</th>\n",
       "      <td>61</td>\n",
       "      <td>36.300</td>\n",
       "      <td>1</td>\n",
       "      <td>1</td>\n",
       "      <td>0</td>\n",
       "      <td>48025.198725</td>\n",
       "    </tr>\n",
       "    <tr>\n",
       "      <th>1285</th>\n",
       "      <td>47</td>\n",
       "      <td>24.320</td>\n",
       "      <td>0</td>\n",
       "      <td>0</td>\n",
       "      <td>1</td>\n",
       "      <td>9974.935857</td>\n",
       "    </tr>\n",
       "  </tbody>\n",
       "</table>\n",
       "<p>268 rows × 6 columns</p>\n",
       "</div>"
      ],
      "text/plain": [
       "      edad     imc  hijos  fumador  es_femenino  Predicciones\n",
       "900     49  22.515      0        0            0   9681.312521\n",
       "1064    29  25.600      4        0            1   7243.519269\n",
       "1256    51  36.385      3        0            1  11579.925322\n",
       "298     31  34.390      3        1            0  38101.210023\n",
       "237     31  38.390      2        0            0   5651.622852\n",
       "...    ...     ...    ...      ...          ...           ...\n",
       "534     64  40.480      0        0            0  13793.204759\n",
       "542     63  36.300      0        0            1  13914.866987\n",
       "760     22  34.580      2        0            1   4752.955249\n",
       "1284    61  36.300      1        1            0  48025.198725\n",
       "1285    47  24.320      0        0            1   9974.935857\n",
       "\n",
       "[268 rows x 6 columns]"
      ]
     },
     "execution_count": 30,
     "metadata": {},
     "output_type": "execute_result"
    }
   ],
   "source": [
    "datos_prueba_con_predicciones"
   ]
  }
 ],
 "metadata": {
  "kernelspec": {
   "display_name": "Python 3",
   "language": "python",
   "name": "python3"
  },
  "language_info": {
   "codemirror_mode": {
    "name": "ipython",
    "version": 3
   },
   "file_extension": ".py",
   "mimetype": "text/x-python",
   "name": "python",
   "nbconvert_exporter": "python",
   "pygments_lexer": "ipython3",
   "version": "3.11.5"
  }
 },
 "nbformat": 4,
 "nbformat_minor": 2
}
